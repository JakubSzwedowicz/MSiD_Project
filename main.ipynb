{
 "cells": [
  {
   "cell_type": "code",
   "execution_count": 19,
   "metadata": {
    "pycharm": {
     "name": "#%%\n"
    }
   },
   "outputs": [],
   "source": [
    "# %config IPCompleter.greedy=True\n",
    "import pandas as pd\n",
    "import numpy as np\n",
    "import matplotlib.pyplot as plt\n",
    "from sklearn.preprocessing import StandardScaler\n",
    "from sklearn.metrics import accuracy_score\n",
    "from sklearn.model_selection import train_test_split\n",
    "from sklearn.model_selection import cross_val_score\n",
    "from sklearn.neighbors import KNeighborsClassifier\n",
    "from sklearn.linear_model import LogisticRegression\n",
    "from sklearn.naive_bayes import GaussianNB\n",
    "from sklearn.svm import SVC\n",
    "from sklearn.model_selection import GridSearchCV\n",
    "from sklearn.metrics import plot_confusion_matrix\n",
    "import sklearn"
   ]
  },
  {
   "cell_type": "code",
   "execution_count": 20,
   "outputs": [],
   "source": [
    "TABLES_FILEPATH = 'tables/'\n",
    "IMAGES_FILEPATH = 'images/'\n",
    "RESOURCES_FILEPATH = 'resources/'"
   ],
   "metadata": {
    "collapsed": false,
    "pycharm": {
     "name": "#%%\n"
    }
   }
  },
  {
   "cell_type": "code",
   "execution_count": 21,
   "metadata": {
    "pycharm": {
     "name": "#%%\n"
    }
   },
   "outputs": [
    {
     "name": "stdout",
     "output_type": "stream",
     "text": [
      "<class 'pandas.core.frame.DataFrame'>\n",
      "RangeIndex: 800 entries, 0 to 799\n",
      "Data columns (total 11 columns):\n",
      " #   Column       Non-Null Count  Dtype  \n",
      "---  ------       --------------  -----  \n",
      " 0   PassengerId  800 non-null    int64  \n",
      " 1   Survived     800 non-null    int64  \n",
      " 2   Pclass       800 non-null    int64  \n",
      " 3   Sex          800 non-null    object \n",
      " 4   Age          637 non-null    float64\n",
      " 5   SibSp        800 non-null    int64  \n",
      " 6   Parch        800 non-null    int64  \n",
      " 7   Ticket       800 non-null    object \n",
      " 8   Fare         800 non-null    float64\n",
      " 9   Cabin        185 non-null    object \n",
      " 10  Embarked     799 non-null    object \n",
      "dtypes: float64(2), int64(5), object(4)\n",
      "memory usage: 68.9+ KB\n"
     ]
    }
   ],
   "source": [
    "train = pd.read_csv(RESOURCES_FILEPATH + 'train_data.csv')\n",
    "\n",
    "train.info()"
   ]
  },
  {
   "cell_type": "code",
   "execution_count": 22,
   "metadata": {
    "pycharm": {
     "name": "#%%\n"
    }
   },
   "outputs": [
    {
     "data": {
      "text/plain": "             N/D            Data types\nPassengerId    0       Numerical Ratio\nSurvived       0  Cathegorical Nominal\nPclass         0  Cathegorical Ordinal\nSex            0  Cathegorical Nominal\nAge          163       Numerical Ratio\nSibSp          0    Numerical Interval\nParch          0    Numerical Interval\nTicket         0    Numerical Interval\nFare           0       Numerical Ratio\nCabin        615             Text data\nEmbarked       1  Cathegorical Nominal",
      "text/html": "<div>\n<style scoped>\n    .dataframe tbody tr th:only-of-type {\n        vertical-align: middle;\n    }\n\n    .dataframe tbody tr th {\n        vertical-align: top;\n    }\n\n    .dataframe thead th {\n        text-align: right;\n    }\n</style>\n<table border=\"1\" class=\"dataframe\">\n  <thead>\n    <tr style=\"text-align: right;\">\n      <th></th>\n      <th>N/D</th>\n      <th>Data types</th>\n    </tr>\n  </thead>\n  <tbody>\n    <tr>\n      <th>PassengerId</th>\n      <td>0</td>\n      <td>Numerical Ratio</td>\n    </tr>\n    <tr>\n      <th>Survived</th>\n      <td>0</td>\n      <td>Cathegorical Nominal</td>\n    </tr>\n    <tr>\n      <th>Pclass</th>\n      <td>0</td>\n      <td>Cathegorical Ordinal</td>\n    </tr>\n    <tr>\n      <th>Sex</th>\n      <td>0</td>\n      <td>Cathegorical Nominal</td>\n    </tr>\n    <tr>\n      <th>Age</th>\n      <td>163</td>\n      <td>Numerical Ratio</td>\n    </tr>\n    <tr>\n      <th>SibSp</th>\n      <td>0</td>\n      <td>Numerical Interval</td>\n    </tr>\n    <tr>\n      <th>Parch</th>\n      <td>0</td>\n      <td>Numerical Interval</td>\n    </tr>\n    <tr>\n      <th>Ticket</th>\n      <td>0</td>\n      <td>Numerical Interval</td>\n    </tr>\n    <tr>\n      <th>Fare</th>\n      <td>0</td>\n      <td>Numerical Ratio</td>\n    </tr>\n    <tr>\n      <th>Cabin</th>\n      <td>615</td>\n      <td>Text data</td>\n    </tr>\n    <tr>\n      <th>Embarked</th>\n      <td>1</td>\n      <td>Cathegorical Nominal</td>\n    </tr>\n  </tbody>\n</table>\n</div>"
     },
     "execution_count": 22,
     "metadata": {},
     "output_type": "execute_result"
    }
   ],
   "source": [
    "# Zapisanie rodzajów zmiennych oraz ilości brakujących danych\n",
    "lack_of_data_name = 'N/D'\n",
    "train_isna = pd.DataFrame(train.isna().sum(), columns=[lack_of_data_name])\n",
    "\n",
    "data_types = ['Numerical Ratio', 'Cathegorical Nominal', 'Cathegorical Ordinal', 'Cathegorical Nominal',\n",
    "              'Numerical Ratio', 'Numerical Interval', 'Numerical Interval', 'Numerical Interval',\n",
    "              'Numerical Ratio', 'Text data', 'Cathegorical Nominal']\n",
    "\n",
    "train_isna['Data types'] = data_types\n",
    "train_isna.to_csv(TABLES_FILEPATH + 'train_isna.csv')\n",
    "\n",
    "train_isna"
   ]
  },
  {
   "cell_type": "code",
   "execution_count": 23,
   "outputs": [
    {
     "name": "stdout",
     "output_type": "stream",
     "text": [
      "S    577\n",
      "C    149\n",
      "Q     73\n",
      "Name: Embarked, dtype: int64\n"
     ]
    },
    {
     "data": {
      "text/plain": "<Figure size 432x288 with 1 Axes>",
      "image/png": "[encoded data removed]"
     },
     "metadata": {
      "needs_background": "light"
     },
     "output_type": "display_data"
    }
   ],
   "source": [
    "plt.hist(train['Age'], bins=25)\n",
    "hist_name = 'Histogram wieku'\n",
    "plt.title(label=hist_name)\n",
    "plt.grid()\n",
    "plt.savefig(IMAGES_FILEPATH + hist_name + '.png')\n",
    "embarked_value_counts = pd.Series.value_counts(train['Embarked'])\n",
    "print(embarked_value_counts)"
   ],
   "metadata": {
    "collapsed": false,
    "pycharm": {
     "name": "#%%\n"
    }
   }
  },
  {
   "cell_type": "code",
   "execution_count": 24,
   "outputs": [
    {
     "data": {
      "text/plain": "<Figure size 432x288 with 1 Axes>",
      "image/png": "[encoded data removed]"
     },
     "metadata": {
      "needs_background": "light"
     },
     "output_type": "display_data"
    }
   ],
   "source": [
    "heights = embarked_value_counts\n",
    "labels = embarked_value_counts.index\n",
    "plt.bar(labels, heights)\n",
    "plt.grid()\n",
    "embarked_hist_name = 'Histogram wejść na statek.png'\n",
    "plt.title(label='Wykres częstości występowania oznaczeń')\n",
    "plt.savefig(IMAGES_FILEPATH + embarked_hist_name)\n",
    "plt.show()"
   ],
   "metadata": {
    "collapsed": false,
    "pycharm": {
     "name": "#%%\n"
    }
   }
  },
  {
   "cell_type": "markdown",
   "metadata": {
    "pycharm": {
     "name": "#%% md\n"
    }
   },
   "source": [
    "## Typy danych\n",
    "PassengerId - Numerical, Ratio<br>\n",
    "Pclass - Cathegorical, Ordinal<br>\n",
    "Sex - Cathegorical, Nominal<br>\n",
    "Age - Numerical, Ratio<br>\n",
    "SibSp - Numerical, Interval<br>\n",
    "Parch - Numerical, Interval<br>\n",
    "Ticket - Numerical, Interval<br>\n",
    "Fare - Numerical, Ratio<br>\n",
    "Cabin - Text data<br>\n",
    "Embarked - Cathegorical, Nominal<br>"
   ]
  },
  {
   "cell_type": "markdown",
   "metadata": {
    "pycharm": {
     "name": "#%% md\n"
    }
   },
   "source": [
    "# Preprocessing\n",
    "PassengerId - do usunięcia<br>\n",
    "Pclass - bez zmian<br>\n",
    "Cabin - do usunięcia<br>\n",
    "Embarked - wypełnienie najczęściej występującą literą i One-Hot Encoding<br>\n",
    "Age - rozłożyć uzupełnienie procentowo z uwzględnieniem grup wiekowych, standaryzacja<br>\n",
    "Sex - One-Hot Encoding<br>\n",
    "SibSp - bez zmian<br>\n",
    "Parch - bez zmian<br>\n",
    "Ticket - do usunięcia<br>\n",
    "Fare - standaryzacja<br>\n",
    "Embarked - One-Hot Encoding"
   ]
  },
  {
   "cell_type": "code",
   "execution_count": 25,
   "outputs": [],
   "source": [
    "# Usunięcie danych uznanych za zbędne\n",
    "train = train.drop(['Cabin'], axis=1)\n",
    "train = train.drop(['PassengerId'], axis=1)\n",
    "train = train.drop(['Ticket'], axis=1)"
   ],
   "metadata": {
    "collapsed": false,
    "pycharm": {
     "name": "#%%\n"
    }
   }
  },
  {
   "cell_type": "code",
   "execution_count": 26,
   "metadata": {
    "pycharm": {
     "name": "#%%\n"
    }
   },
   "outputs": [
    {
     "name": "stdout",
     "output_type": "stream",
     "text": [
      "Wielkości przedziałów: [98, 480, 59]\n",
      "Procentowy udział grup wiekowych w poprawnych danych: [0.15384615384615385, 0.7535321821036107, 0.09262166405023547]\n",
      "Mediany grup wiekowych: [9.0, 29.0, 58.0]\n",
      "Limity wartości do metody fillna: [25.076923076923077, 122.82574568288855, 15.097331240188382]\n"
     ]
    }
   ],
   "source": [
    "# Uzupełnienie Embarked najczęstszą wartością\n",
    "train['Embarked'] = train['Embarked'].fillna(value=train['Embarked'].mode())\n",
    "\n",
    "#Wartości dobrane ręcznie zakładając 3 grupy wiekowe i podział na (dzieci), (rodzice), (dziadkowie)\n",
    "age_groups = ((0, 17), (17.001, 50), (50.001, 100))\n",
    "intervals = []\n",
    "intervals_counts = []\n",
    "# wyznaczenie ilości osób z każdej z grup\n",
    "for group in age_groups:\n",
    "    interval = train.loc[(train['Age'] >= group[0]) & (train['Age'] <= group[1])]\n",
    "    intervals.append(interval)\n",
    "    intervals_counts.append(interval['Age'].count())\n",
    "\n",
    "# Wyznaczenie procentowego udziału każdej grupy wiekowej\n",
    "ENTRIES = train.shape[0]\n",
    "MISSING_AGE = train_isna['N/D']['Age']\n",
    "percentage_participation = [interval / (ENTRIES - MISSING_AGE) for interval in intervals_counts]\n",
    "\n",
    "# Wyznaczenie median przypadających na grupy wiekowe oraz ilości osób z danych grup wiekowych, które można uzupełnić zachowując ich procentowy udział\n",
    "group_age_medians = [interval['Age'].median() for interval in intervals]\n",
    "limits = [part * MISSING_AGE for part in percentage_participation]\n",
    "print('Wielkości przedziałów:', intervals_counts)\n",
    "print('Procentowy udział grup wiekowych w poprawnych danych:', percentage_participation)\n",
    "print('Mediany grup wiekowych:', group_age_medians)\n",
    "print('Limity wartości do metody fillna:', limits)\n",
    "\n"
   ]
  },
  {
   "cell_type": "code",
   "execution_count": 27,
   "metadata": {
    "pycharm": {
     "name": "#%%\n"
    }
   },
   "outputs": [],
   "source": [
    "#Dodaję jeden do najczęściej występującej grupy wiekowej ze względu na zmiennoprzecinkowość danych procentowych\n",
    "limits[1] = int(limits[1] + 1)\n",
    "for i in range(3):\n",
    "    train['Age'] = train['Age'].fillna(value=group_age_medians[i], limit=int(limits[i]))"
   ]
  },
  {
   "cell_type": "code",
   "execution_count": 28,
   "outputs": [
    {
     "data": {
      "text/plain": "     Survived  Pclass   Age  SibSp  Parch     Fare  Sex_male  Embarked_Q  \\\n0           0       3  22.0      1      0   7.2500         1           0   \n1           1       1  38.0      1      0  71.2833         0           0   \n2           1       3  26.0      0      0   7.9250         0           0   \n3           1       1  35.0      1      0  53.1000         0           0   \n4           0       3  35.0      0      0   8.0500         1           0   \n..        ...     ...   ...    ...    ...      ...       ...         ...   \n795         0       2  39.0      0      0  13.0000         1           0   \n796         1       1  49.0      0      0  25.9292         0           0   \n797         1       3  31.0      0      0   8.6833         0           0   \n798         0       3  30.0      0      0   7.2292         1           0   \n799         0       3  30.0      1      1  24.1500         0           0   \n\n     Embarked_S  \n0             1  \n1             0  \n2             1  \n3             1  \n4             1  \n..          ...  \n795           1  \n796           1  \n797           1  \n798           0  \n799           1  \n\n[800 rows x 9 columns]",
      "text/html": "<div>\n<style scoped>\n    .dataframe tbody tr th:only-of-type {\n        vertical-align: middle;\n    }\n\n    .dataframe tbody tr th {\n        vertical-align: top;\n    }\n\n    .dataframe thead th {\n        text-align: right;\n    }\n</style>\n<table border=\"1\" class=\"dataframe\">\n  <thead>\n    <tr style=\"text-align: right;\">\n      <th></th>\n      <th>Survived</th>\n      <th>Pclass</th>\n      <th>Age</th>\n      <th>SibSp</th>\n      <th>Parch</th>\n      <th>Fare</th>\n      <th>Sex_male</th>\n      <th>Embarked_Q</th>\n      <th>Embarked_S</th>\n    </tr>\n  </thead>\n  <tbody>\n    <tr>\n      <th>0</th>\n      <td>0</td>\n      <td>3</td>\n      <td>22.0</td>\n      <td>1</td>\n      <td>0</td>\n      <td>7.2500</td>\n      <td>1</td>\n      <td>0</td>\n      <td>1</td>\n    </tr>\n    <tr>\n      <th>1</th>\n      <td>1</td>\n      <td>1</td>\n      <td>38.0</td>\n      <td>1</td>\n      <td>0</td>\n      <td>71.2833</td>\n      <td>0</td>\n      <td>0</td>\n      <td>0</td>\n    </tr>\n    <tr>\n      <th>2</th>\n      <td>1</td>\n      <td>3</td>\n      <td>26.0</td>\n      <td>0</td>\n      <td>0</td>\n      <td>7.9250</td>\n      <td>0</td>\n      <td>0</td>\n      <td>1</td>\n    </tr>\n    <tr>\n      <th>3</th>\n      <td>1</td>\n      <td>1</td>\n      <td>35.0</td>\n      <td>1</td>\n      <td>0</td>\n      <td>53.1000</td>\n      <td>0</td>\n      <td>0</td>\n      <td>1</td>\n    </tr>\n    <tr>\n      <th>4</th>\n      <td>0</td>\n      <td>3</td>\n      <td>35.0</td>\n      <td>0</td>\n      <td>0</td>\n      <td>8.0500</td>\n      <td>1</td>\n      <td>0</td>\n      <td>1</td>\n    </tr>\n    <tr>\n      <th>...</th>\n      <td>...</td>\n      <td>...</td>\n      <td>...</td>\n      <td>...</td>\n      <td>...</td>\n      <td>...</td>\n      <td>...</td>\n      <td>...</td>\n      <td>...</td>\n    </tr>\n    <tr>\n      <th>795</th>\n      <td>0</td>\n      <td>2</td>\n      <td>39.0</td>\n      <td>0</td>\n      <td>0</td>\n      <td>13.0000</td>\n      <td>1</td>\n      <td>0</td>\n      <td>1</td>\n    </tr>\n    <tr>\n      <th>796</th>\n      <td>1</td>\n      <td>1</td>\n      <td>49.0</td>\n      <td>0</td>\n      <td>0</td>\n      <td>25.9292</td>\n      <td>0</td>\n      <td>0</td>\n      <td>1</td>\n    </tr>\n    <tr>\n      <th>797</th>\n      <td>1</td>\n      <td>3</td>\n      <td>31.0</td>\n      <td>0</td>\n      <td>0</td>\n      <td>8.6833</td>\n      <td>0</td>\n      <td>0</td>\n      <td>1</td>\n    </tr>\n    <tr>\n      <th>798</th>\n      <td>0</td>\n      <td>3</td>\n      <td>30.0</td>\n      <td>0</td>\n      <td>0</td>\n      <td>7.2292</td>\n      <td>1</td>\n      <td>0</td>\n      <td>0</td>\n    </tr>\n    <tr>\n      <th>799</th>\n      <td>0</td>\n      <td>3</td>\n      <td>30.0</td>\n      <td>1</td>\n      <td>1</td>\n      <td>24.1500</td>\n      <td>0</td>\n      <td>0</td>\n      <td>1</td>\n    </tr>\n  </tbody>\n</table>\n<p>800 rows × 9 columns</p>\n</div>"
     },
     "execution_count": 28,
     "metadata": {},
     "output_type": "execute_result"
    }
   ],
   "source": [
    "# One hot encoding\n",
    "train = pd.get_dummies(train, columns=['Sex'], drop_first=True)\n",
    "train = pd.get_dummies(train, columns=['Embarked'], drop_first=True)\n",
    "train"
   ],
   "metadata": {
    "collapsed": false,
    "pycharm": {
     "name": "#%%\n"
    }
   }
  },
  {
   "cell_type": "code",
   "execution_count": 29,
   "metadata": {
    "pycharm": {
     "name": "#%%\n"
    }
   },
   "outputs": [
    {
     "data": {
      "text/plain": "     Survived  Pclass   Age  SibSp  Parch     Fare  Sex_male  Embarked_Q  \\\n0           0       3  22.0      1      0   7.2500         1           0   \n1           1       1  38.0      1      0  71.2833         0           0   \n2           1       3  26.0      0      0   7.9250         0           0   \n3           1       1  35.0      1      0  53.1000         0           0   \n4           0       3  35.0      0      0   8.0500         1           0   \n..        ...     ...   ...    ...    ...      ...       ...         ...   \n795         0       2  39.0      0      0  13.0000         1           0   \n796         1       1  49.0      0      0  25.9292         0           0   \n797         1       3  31.0      0      0   8.6833         0           0   \n798         0       3  30.0      0      0   7.2292         1           0   \n799         0       3  30.0      1      1  24.1500         0           0   \n\n     Embarked_S  Protection  \n0             1    0.045455  \n1             0    0.026316  \n2             1    0.000000  \n3             1    0.028571  \n4             1    0.000000  \n..          ...         ...  \n795           1    0.000000  \n796           1    0.000000  \n797           1    0.000000  \n798           0    0.000000  \n799           1    0.000000  \n\n[800 rows x 10 columns]",
      "text/html": "<div>\n<style scoped>\n    .dataframe tbody tr th:only-of-type {\n        vertical-align: middle;\n    }\n\n    .dataframe tbody tr th {\n        vertical-align: top;\n    }\n\n    .dataframe thead th {\n        text-align: right;\n    }\n</style>\n<table border=\"1\" class=\"dataframe\">\n  <thead>\n    <tr style=\"text-align: right;\">\n      <th></th>\n      <th>Survived</th>\n      <th>Pclass</th>\n      <th>Age</th>\n      <th>SibSp</th>\n      <th>Parch</th>\n      <th>Fare</th>\n      <th>Sex_male</th>\n      <th>Embarked_Q</th>\n      <th>Embarked_S</th>\n      <th>Protection</th>\n    </tr>\n  </thead>\n  <tbody>\n    <tr>\n      <th>0</th>\n      <td>0</td>\n      <td>3</td>\n      <td>22.0</td>\n      <td>1</td>\n      <td>0</td>\n      <td>7.2500</td>\n      <td>1</td>\n      <td>0</td>\n      <td>1</td>\n      <td>0.045455</td>\n    </tr>\n    <tr>\n      <th>1</th>\n      <td>1</td>\n      <td>1</td>\n      <td>38.0</td>\n      <td>1</td>\n      <td>0</td>\n      <td>71.2833</td>\n      <td>0</td>\n      <td>0</td>\n      <td>0</td>\n      <td>0.026316</td>\n    </tr>\n    <tr>\n      <th>2</th>\n      <td>1</td>\n      <td>3</td>\n      <td>26.0</td>\n      <td>0</td>\n      <td>0</td>\n      <td>7.9250</td>\n      <td>0</td>\n      <td>0</td>\n      <td>1</td>\n      <td>0.000000</td>\n    </tr>\n    <tr>\n      <th>3</th>\n      <td>1</td>\n      <td>1</td>\n      <td>35.0</td>\n      <td>1</td>\n      <td>0</td>\n      <td>53.1000</td>\n      <td>0</td>\n      <td>0</td>\n      <td>1</td>\n      <td>0.028571</td>\n    </tr>\n    <tr>\n      <th>4</th>\n      <td>0</td>\n      <td>3</td>\n      <td>35.0</td>\n      <td>0</td>\n      <td>0</td>\n      <td>8.0500</td>\n      <td>1</td>\n      <td>0</td>\n      <td>1</td>\n      <td>0.000000</td>\n    </tr>\n    <tr>\n      <th>...</th>\n      <td>...</td>\n      <td>...</td>\n      <td>...</td>\n      <td>...</td>\n      <td>...</td>\n      <td>...</td>\n      <td>...</td>\n      <td>...</td>\n      <td>...</td>\n      <td>...</td>\n    </tr>\n    <tr>\n      <th>795</th>\n      <td>0</td>\n      <td>2</td>\n      <td>39.0</td>\n      <td>0</td>\n      <td>0</td>\n      <td>13.0000</td>\n      <td>1</td>\n      <td>0</td>\n      <td>1</td>\n      <td>0.000000</td>\n    </tr>\n    <tr>\n      <th>796</th>\n      <td>1</td>\n      <td>1</td>\n      <td>49.0</td>\n      <td>0</td>\n      <td>0</td>\n      <td>25.9292</td>\n      <td>0</td>\n      <td>0</td>\n      <td>1</td>\n      <td>0.000000</td>\n    </tr>\n    <tr>\n      <th>797</th>\n      <td>1</td>\n      <td>3</td>\n      <td>31.0</td>\n      <td>0</td>\n      <td>0</td>\n      <td>8.6833</td>\n      <td>0</td>\n      <td>0</td>\n      <td>1</td>\n      <td>0.000000</td>\n    </tr>\n    <tr>\n      <th>798</th>\n      <td>0</td>\n      <td>3</td>\n      <td>30.0</td>\n      <td>0</td>\n      <td>0</td>\n      <td>7.2292</td>\n      <td>1</td>\n      <td>0</td>\n      <td>0</td>\n      <td>0.000000</td>\n    </tr>\n    <tr>\n      <th>799</th>\n      <td>0</td>\n      <td>3</td>\n      <td>30.0</td>\n      <td>1</td>\n      <td>1</td>\n      <td>24.1500</td>\n      <td>0</td>\n      <td>0</td>\n      <td>1</td>\n      <td>0.000000</td>\n    </tr>\n  </tbody>\n</table>\n<p>800 rows × 10 columns</p>\n</div>"
     },
     "execution_count": 29,
     "metadata": {},
     "output_type": "execute_result"
    }
   ],
   "source": [
    "# Feature Engineering polegający na utworzeniu zmiennej \"Protection\" wyrażającej poprawę szansy na dotarcie do szalupy i przeżycie. Wynika ze statusu w rodzinie (dziecko, rodzic, dziadkowie) oraz ilości krewnych. Wzór powoduje np. że jedynacy z rodzicami na statku są mocno premiowani, dzieci bez rodziców otrzymują wartość ujemną. Odwrotnie do tego, rodzice otrzymują 'karę' Protection im więcej dzieci mają. Posiadanie krewnych w tym samym wieku generalnie obniża szansę na przeżycie. Wartość Protection jest od razu znormalizowana.\n",
    "\n",
    "SIBSP_DIVISION_RATE = 9\n",
    "\n",
    "\n",
    "def protection_feature(age, sibsp, parch):\n",
    "    if age > age_groups[0][0] and age <= age_groups[0][1]:\n",
    "        return (1 / age) * parch - (1 / age) * (sibsp / SIBSP_DIVISION_RATE)\n",
    "    elif age >= age_groups[1][0] and age <= age_groups[1][1]:\n",
    "        return (1 / age) * sibsp - (1 / age) * parch\n",
    "    elif age >= age_groups[2][0] and age <= age_groups[2][1]:\n",
    "        return (1 / age) * parch - (1 / age) * (sibsp / SIBSP_DIVISION_RATE)\n",
    "\n",
    "\n",
    "protection = []\n",
    "for i in range(ENTRIES):\n",
    "    age, sibSp, parch = train['Age'][i], train['SibSp'][i], train['Parch'][i]\n",
    "    prot = protection_feature(age, sibSp, parch)\n",
    "    protection.append(prot)\n",
    "\n",
    "train['Protection'] = protection\n",
    "train"
   ]
  },
  {
   "cell_type": "code",
   "execution_count": 30,
   "metadata": {
    "pycharm": {
     "name": "#%%\n"
    }
   },
   "outputs": [
    {
     "name": "stdout",
     "output_type": "stream",
     "text": [
      "0.385\n"
     ]
    }
   ],
   "source": [
    "\n",
    "y = train['Survived']\n",
    "survived_count = len([survived for survived in y if survived == 1])\n",
    "dead_count = len([dead for dead in y if dead == 0])\n",
    "print(survived_count / (dead_count + survived_count))\n",
    "\n",
    "# Usunięcie informacji o przetrwaniu ze zbioru argumentów\n",
    "train = train.drop(['Survived'], axis=1)\n",
    "X = train.values\n",
    "y = y.values\n",
    "\n",
    "# Normalizacja kolumn Age, Fare, Protection, tak aby μ = 0 i σ = 1\n",
    "sc = StandardScaler()\n",
    "X_std = sc.fit_transform(X[:, [1, 4, 8]])"
   ]
  },
  {
   "cell_type": "code",
   "execution_count": 31,
   "metadata": {
    "pycharm": {
     "name": "#%%\n"
    }
   },
   "outputs": [],
   "source": [
    "# Podmiana odpowiednich kolumn na znormalizowane\n",
    "X[:, 1] = X_std[:, 0]\n",
    "X[:, 4] = X_std[:, 1]\n",
    "X[:, 8] = X_std[:, 2]\n",
    "X_train, X_test, y_train, y_test = train_test_split(X, y, test_size=0.3, random_state=42)\n",
    "\n",
    "if np.isnan(X_train).any() or np.isnan(X_test).any() or np.isnan(y_train).any() or np.isnan(y_test).any():\n",
    "    raise Exception('Data has to be complete!')"
   ]
  },
  {
   "cell_type": "code",
   "execution_count": 32,
   "metadata": {
    "pycharm": {
     "name": "#%%\n"
    }
   },
   "outputs": [],
   "source": [
    "def show_accuracy(model):\n",
    "    return accuracy_score(y_test, model.predictions)\n",
    "\n",
    "\n",
    "def calculate_average_accuracy(model):\n",
    "    accuracy = []\n",
    "    for _ in range(500):\n",
    "        accuracy.append(show_accuracy(model))\n",
    "    mean = sum(accuracy) / len(accuracy)\n",
    "    print('Accuracy:', mean)\n",
    "    return mean\n",
    "\n",
    "\n",
    "def train_model(model, grid_parameters):\n",
    "    grid = GridSearchCV(model, grid_parameters, n_jobs=-1, verbose=10)\n",
    "    grid.fit(X_train, y_train)\n",
    "    print(f'Best score: {grid.best_score_}')\n",
    "    print(f'Best parameters: {grid.best_params_}')\n",
    "    return grid.best_estimator_\n",
    "\n",
    "\n",
    "def validate_model(model):\n",
    "    name = str(model).split(sep='(', maxsplit=1)[0]\n",
    "\n",
    "    # walidacja krzyżowa\n",
    "    validation = cross_val_score(model, X, y, cv=10)\n",
    "    model.fit(X_train, y_train)\n",
    "    pred = model.predict(X_test)\n",
    "    score = round(accuracy_score(y_test, pred), ndigits=4)\n",
    "    print(f'{name} \\n Accuracy: {score}')\n",
    "    print(validation.mean(), validation.std() * 2)\n",
    "    plot_confusion_matrix(model, X_test, y_test)\n",
    "    plt.title(label=(name + f' (score: {score})'))\n",
    "    plt.savefig(IMAGES_FILEPATH + name + '.png')\n",
    "    plt.show()\n",
    "\n",
    "\n",
    "# scores = pd.read_csv('score1.csv')\n",
    "columns = ['KNN', 'TREE', 'LR', 'BAYES', 'SVC']\n",
    "\n",
    "\n",
    "def find_best_knn():\n",
    "    n_neighbors = np.arange(3, 10, 1)\n",
    "    weights = ['uniform', 'distance']\n",
    "    algorithm = ['ball_tree']\n",
    "    leaf_size = np.arange(20, 40, 1)\n",
    "    # metric = [DistanceMetric.get_metric('haversine')]\n",
    "    metric = sklearn.neighbors.VALID_METRICS['ball_tree']\n",
    "    # metric.remove('haversine')\n",
    "    # metric.remove('mahalanobis')\n",
    "    # metric.remove('seuclidean')\n",
    "    # metric.remove('wminkowski')\n",
    "    # metric.remove('pyfunc')\n",
    "    n_jobs = [-1]\n",
    "\n",
    "    grid_parameters = {\n",
    "        'n_neighbors': n_neighbors,\n",
    "        'weights': weights,\n",
    "        'algorithm': algorithm,\n",
    "        'leaf_size': leaf_size,\n",
    "        'metric': metric,\n",
    "        'n_jobs': n_jobs\n",
    "    }\n",
    "\n",
    "    knn = KNeighborsClassifier()\n",
    "    best_knn = train_model(knn, grid_parameters)\n",
    "\n",
    "    return best_knn\n",
    "\n",
    "\n",
    "def find_best_tree():\n",
    "    criterion = ['gini', 'entropy']\n",
    "    splitter = ['best', 'random']\n",
    "    min_samples_split = np.arange(2, 5, 1)\n",
    "    min_samples_leaf = np.arange(1, 5, 1)\n",
    "    max_features = ['sqrt', 'log2']\n",
    "\n",
    "\n",
    "def find_best_svc():\n",
    "    C = [0.5, 2, 4, 8, 16, 32, 64, 128, 256, 512, 1024]\n",
    "    kernel = ['linear', 'rbf']\n",
    "    #degree = np.arange(2, 10, 1)\n",
    "    gamma = ['scale', 'auto', 0.5, 2, 4, 8]\n",
    "    #coef0 = np.arange(0, 2, 0.2)\n",
    "    class_weight = ['balanced', None]\n",
    "    grid_parameters = {\n",
    "        'C': C,\n",
    "        'kernel': kernel,\n",
    "        #'degree': degree,\n",
    "        'gamma': gamma,\n",
    "        #'coef0': coef0,\n",
    "        'class_weight': class_weight\n",
    "    }\n",
    "    svc = SVC()\n",
    "    best_svc = train_model(svc, grid_parameters)\n",
    "    return best_svc\n",
    "\n",
    "\n",
    "# Całiem słaby algorytm gdyż zakłada wzajemną niezależność zmiennych, co w przypadku ofiar Titanica jest kompletnie bez sensu\n",
    "def find_best_gaussianNB():\n",
    "    priors = ['']\n",
    "    var_smoothing = [1e-7, 5e-7, 1e-8, 5e-8, 1e-9, 5e-9, 1e-10]\n",
    "    grid_parameters = {\n",
    "        'var_smoothing': var_smoothing\n",
    "    }\n",
    "    gaussianNB = GaussianNB()\n",
    "    best_gaussianNB = train_model(gaussianNB, grid_parameters)\n",
    "    return best_gaussianNB\n",
    "\n",
    "\n",
    "def find_best_logistic_regression():\n",
    "    penalty = ['l2']\n",
    "    dual = [False]\n",
    "    tol = [1e-1, 5e-1, 1e-2, 5e-2, 1e-3, 5e-3, 1e-4, 5e-4, 1e-5, 5e-5]\n",
    "    C = [0.1, 0.2, 0.3, 0.4, 0.5]\n",
    "    solver = ['newton-cg', 'lbfgs', 'liblinear', 'sag', 'saga']\n",
    "    grid_parameters = {\n",
    "        'penalty': penalty,\n",
    "        'dual': dual,\n",
    "        'tol': tol,\n",
    "        'C': C,\n",
    "        'solver': solver\n",
    "    }\n",
    "    lr = LogisticRegression(max_iter=1000)\n",
    "    best_lr = train_model(lr, grid_parameters)\n",
    "    return best_lr"
   ]
  },
  {
   "cell_type": "code",
   "execution_count": 33,
   "outputs": [],
   "source": [
    "# Funkcje do znalezienia potencjalnie najlepszego modelu\n",
    "# UWAGA: Komputer może mocno zwolnić po uruchomieniu wszystkich naraz\n",
    "# best_knn = find_best_knn()\n",
    "# best_svc = find_best_svc()\n",
    "# best_lr = find_best_logistic_regression()\n",
    "# best_gnb = find_best_gaussianNB()"
   ],
   "metadata": {
    "collapsed": false,
    "pycharm": {
     "name": "#%%\n"
    }
   }
  },
  {
   "cell_type": "code",
   "execution_count": 34,
   "outputs": [
    {
     "name": "stdout",
     "output_type": "stream",
     "text": [
      "KNeighborsClassifier \n",
      " Accuracy: 0.8125\n",
      "0.7949999999999999 0.09096702699330123\n"
     ]
    },
    {
     "name": "stderr",
     "output_type": "stream",
     "text": [
      "/home/jakubszwedowicz/miniconda3/envs/Projekt/lib/python3.10/site-packages/sklearn/utils/deprecation.py:87: FutureWarning: Function plot_confusion_matrix is deprecated; Function `plot_confusion_matrix` is deprecated in 1.0 and will be removed in 1.2. Use one of the class methods: ConfusionMatrixDisplay.from_predictions or ConfusionMatrixDisplay.from_estimator.\n",
      "  warnings.warn(msg, category=FutureWarning)\n"
     ]
    },
    {
     "data": {
      "text/plain": "<Figure size 432x288 with 2 Axes>",
      "image/png": "[encoded data removed]"
     },
     "metadata": {
      "needs_background": "light"
     },
     "output_type": "display_data"
    },
    {
     "name": "stdout",
     "output_type": "stream",
     "text": [
      "SVC \n",
      " Accuracy: 0.8458\n",
      "0.82125 0.07749999999999997\n"
     ]
    },
    {
     "name": "stderr",
     "output_type": "stream",
     "text": [
      "/home/jakubszwedowicz/miniconda3/envs/Projekt/lib/python3.10/site-packages/sklearn/utils/deprecation.py:87: FutureWarning: Function plot_confusion_matrix is deprecated; Function `plot_confusion_matrix` is deprecated in 1.0 and will be removed in 1.2. Use one of the class methods: ConfusionMatrixDisplay.from_predictions or ConfusionMatrixDisplay.from_estimator.\n",
      "  warnings.warn(msg, category=FutureWarning)\n"
     ]
    },
    {
     "data": {
      "text/plain": "<Figure size 432x288 with 2 Axes>",
      "image/png": "[encoded data removed]"
     },
     "metadata": {
      "needs_background": "light"
     },
     "output_type": "display_data"
    },
    {
     "name": "stdout",
     "output_type": "stream",
     "text": [
      "LogisticRegression \n",
      " Accuracy: 0.85\n",
      "0.80625 0.0634921254960015\n"
     ]
    },
    {
     "name": "stderr",
     "output_type": "stream",
     "text": [
      "/home/jakubszwedowicz/miniconda3/envs/Projekt/lib/python3.10/site-packages/sklearn/utils/deprecation.py:87: FutureWarning: Function plot_confusion_matrix is deprecated; Function `plot_confusion_matrix` is deprecated in 1.0 and will be removed in 1.2. Use one of the class methods: ConfusionMatrixDisplay.from_predictions or ConfusionMatrixDisplay.from_estimator.\n",
      "  warnings.warn(msg, category=FutureWarning)\n"
     ]
    },
    {
     "data": {
      "text/plain": "<Figure size 432x288 with 2 Axes>",
      "image/png": "[encoded data removed]"
     },
     "metadata": {
      "needs_background": "light"
     },
     "output_type": "display_data"
    },
    {
     "name": "stdout",
     "output_type": "stream",
     "text": [
      "GaussianNB \n",
      " Accuracy: 0.7958\n",
      "0.7925 0.07599342076785333\n"
     ]
    },
    {
     "name": "stderr",
     "output_type": "stream",
     "text": [
      "/home/jakubszwedowicz/miniconda3/envs/Projekt/lib/python3.10/site-packages/sklearn/utils/deprecation.py:87: FutureWarning: Function plot_confusion_matrix is deprecated; Function `plot_confusion_matrix` is deprecated in 1.0 and will be removed in 1.2. Use one of the class methods: ConfusionMatrixDisplay.from_predictions or ConfusionMatrixDisplay.from_estimator.\n",
      "  warnings.warn(msg, category=FutureWarning)\n"
     ]
    },
    {
     "data": {
      "text/plain": "<Figure size 432x288 with 2 Axes>",
      "image/png": "[encoded data removed]"
     },
     "metadata": {
      "needs_background": "light"
     },
     "output_type": "display_data"
    }
   ],
   "source": [
    "best_knn = KNeighborsClassifier(algorithm='ball_tree', leaf_size=28, metric='hamming', n_jobs=-1, n_neighbors=9,\n",
    "                                weights='uniform')\n",
    "validate_model(best_knn)\n",
    "\n",
    "best_svc = SVC(C=4, gamma='auto')\n",
    "validate_model(best_svc)\n",
    "\n",
    "best_lr = LogisticRegression(C=0.3, tol=0.001)\n",
    "validate_model(best_lr)\n",
    "\n",
    "best_gnb = GaussianNB(var_smoothing=1e-7)\n",
    "validate_model(best_gnb)"
   ],
   "metadata": {
    "collapsed": false,
    "pycharm": {
     "name": "#%%\n"
    }
   }
  },
  {
   "cell_type": "code",
   "execution_count": 34,
   "outputs": [],
   "source": [
    "\n"
   ],
   "metadata": {
    "collapsed": false,
    "pycharm": {
     "name": "#%%\n"
    }
   }
  }
 ],
 "metadata": {
  "kernelspec": {
   "display_name": "Python 3",
   "language": "python",
   "name": "python3"
  },
  "language_info": {
   "codemirror_mode": {
    "name": "ipython",
    "version": 3
   },
   "file_extension": ".py",
   "mimetype": "text/x-python",
   "name": "python",
   "nbconvert_exporter": "python",
   "pygments_lexer": "ipython3",
   "version": "3.8.5"
  }
 },
 "nbformat": 4,
 "nbformat_minor": 4
}